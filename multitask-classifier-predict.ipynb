{
 "cells": [
  {
   "cell_type": "code",
   "execution_count": 1,
   "id": "756fb4ee",
   "metadata": {},
   "outputs": [
    {
     "name": "stderr",
     "output_type": "stream",
     "text": [
      "/usr/local/lib/python3.9/dist-packages/matplotlib/projections/__init__.py:63: UserWarning: Unable to import Axes3D. This may be due to multiple versions of Matplotlib being installed (e.g. as a system package and as a pip package). As a result, the 3D projection is not available.\n",
      "  warnings.warn(\"Unable to import Axes3D. This may be due to multiple versions of \"\n",
      "2025-09-20 20:21:08.700139: E external/local_xla/xla/stream_executor/cuda/cuda_fft.cc:467] Unable to register cuFFT factory: Attempting to register factory for plugin cuFFT when one has already been registered\n",
      "WARNING: All log messages before absl::InitializeLog() is called are written to STDERR\n",
      "E0000 00:00:1758388868.724554   77074 cuda_dnn.cc:8579] Unable to register cuDNN factory: Attempting to register factory for plugin cuDNN when one has already been registered\n",
      "E0000 00:00:1758388868.731931   77074 cuda_blas.cc:1407] Unable to register cuBLAS factory: Attempting to register factory for plugin cuBLAS when one has already been registered\n",
      "W0000 00:00:1758388868.752526   77074 computation_placer.cc:177] computation placer already registered. Please check linkage and avoid linking the same target more than once.\n",
      "W0000 00:00:1758388868.752551   77074 computation_placer.cc:177] computation placer already registered. Please check linkage and avoid linking the same target more than once.\n",
      "W0000 00:00:1758388868.752556   77074 computation_placer.cc:177] computation placer already registered. Please check linkage and avoid linking the same target more than once.\n",
      "W0000 00:00:1758388868.752560   77074 computation_placer.cc:177] computation placer already registered. Please check linkage and avoid linking the same target more than once.\n",
      "2025-09-20 20:21:08.758716: I tensorflow/core/platform/cpu_feature_guard.cc:210] This TensorFlow binary is optimized to use available CPU instructions in performance-critical operations.\n",
      "To enable the following instructions: AVX2 FMA, in other operations, rebuild TensorFlow with the appropriate compiler flags.\n"
     ]
    }
   ],
   "source": [
    "from time import time\n",
    "from pprint import pprint\n",
    "import ipywidgets as widgets\n",
    "from IPython.display import display\n",
    "from models.predict import MultiTaskModel"
   ]
  },
  {
   "cell_type": "code",
   "execution_count": 2,
   "id": "a6632759",
   "metadata": {},
   "outputs": [
    {
     "name": "stderr",
     "output_type": "stream",
     "text": [
      "Some weights of TransformerMultiTaskClassifier were not initialized from the model checkpoint at intfloat/e5-small-v2 and are newly initialized: ['heads.0.1.bias', 'heads.0.1.weight', 'heads.1.1.bias', 'heads.1.1.weight', 'heads.2.1.bias', 'heads.2.1.weight', 'heads.3.1.bias', 'heads.3.1.weight', 'heads.4.1.bias', 'heads.4.1.weight', 'heads.5.1.bias', 'heads.5.1.weight', 'heads.6.1.bias', 'heads.6.1.weight', 'heads.7.1.bias', 'heads.7.1.weight']\n",
      "You should probably TRAIN this model on a down-stream task to be able to use it for predictions and inference.\n"
     ]
    }
   ],
   "source": [
    "model_directory = \"./outputs/berkeley_classifier_long\"\n",
    "cache_dir='../cache'\n",
    "\n",
    "model = MultiTaskModel(model_directory, cache_dir=cache_dir)"
   ]
  },
  {
   "cell_type": "code",
   "execution_count": 3,
   "id": "a90fe148",
   "metadata": {},
   "outputs": [
    {
     "name": "stdout",
     "output_type": "stream",
     "text": [
      "{'age': array([0.48200592, 0.51799405], dtype=float32),\n",
      " 'disability': array([0.478884  , 0.52111596], dtype=float32),\n",
      " 'gender': array([0.5139837 , 0.48601624], dtype=float32),\n",
      " 'hatespeech': array([0.337121  , 0.33650824, 0.32637075], dtype=float32),\n",
      " 'origin': array([0.4810948, 0.5189052], dtype=float32),\n",
      " 'race': array([0.5066787 , 0.49332127], dtype=float32),\n",
      " 'religion': array([0.49817792, 0.5018221 ], dtype=float32),\n",
      " 'sexuality': array([0.49821922, 0.50178075], dtype=float32)}\n"
     ]
    }
   ],
   "source": [
    "true_label=1\n",
    "# tasks = list(class_maps.keys())\n",
    "text = \"I don't care how threatened you feel, you can't go throwing respect for human rights and due process out the window and just blow a kid away to defend your shit. But this is america the free country founded on genocide and slavery where they hold people in prison camps for years without trial and property is worth more than life so\"\n",
    "final = model.predict(text)\n",
    "pprint(final)"
   ]
  },
  {
   "cell_type": "code",
   "execution_count": 4,
   "id": "325fdc06",
   "metadata": {},
   "outputs": [],
   "source": [
    "processed = None\n",
    "demo_text = \"I don't care how threatened you feel, you can't go throwing respect for human rights and due process out the window and just blow a kid away to defend your shit. But this is america the free country founded on genocide and slavery where they hold people in prison camps for years without trial and property is worth more than life so\"\n",
    "\n",
    "text = widgets.Text(placeholder='Type something', description='Text:', disabled=False, layout = widgets.Layout(width='100%'), value=demo_text)\n",
    "button = widgets.Button(description='Detect', disabled=False)\n",
    "out = widgets.Output(layout={'border': '1px solid black'})\n",
    "tasks = widgets.Dropdown(\n",
    "    placeholder='Target',\n",
    "    description='Select target:',\n",
    "    ensure_option=True,\n",
    "    continuous_update=False,\n",
    "    disabled=False\n",
    ")\n",
    "pred_caption = widgets.Label(value=\"Prediction output:\")\n",
    "interpret_out = widgets.Output()\n",
    "\n",
    "def predict(b):\n",
    "    results = model.predict(text.value)\n",
    "    with out:\n",
    "        pprint(results)\n",
    "    tasks.options = list(results.keys())\n",
    "\n",
    "button.on_click(predict)\n",
    "\n",
    "def plot_interpretability(change):\n",
    "   interpret_out.clear_output()    \n",
    "   with interpret_out:\n",
    "        task_ind = list(model.class_maps.keys()).index(change.new)\n",
    "        time_started = time()\n",
    "        model.plot_interpretability(text.value, task_ind, n_steps=250)\n",
    "        print(\"Time taken to calculate interpretability values, in seconds:\", time() - time_started)\n",
    "\n",
    "tasks.observe(plot_interpretability, names='value')"
   ]
  },
  {
   "cell_type": "code",
   "execution_count": 5,
   "id": "2b86cfd1",
   "metadata": {},
   "outputs": [
    {
     "data": {
      "application/vnd.jupyter.widget-view+json": {
       "model_id": "3730c248641944a0b825d399e82a25ce",
       "version_major": 2,
       "version_minor": 0
      },
      "text/plain": [
       "Text(value=\"I don't care how threatened you feel, you can't go throwing respect for human rights and due proce…"
      ]
     },
     "metadata": {},
     "output_type": "display_data"
    },
    {
     "data": {
      "application/vnd.jupyter.widget-view+json": {
       "model_id": "bc217ea78b5145e9a41056b55e31733b",
       "version_major": 2,
       "version_minor": 0
      },
      "text/plain": [
       "Button(description='Detect', style=ButtonStyle())"
      ]
     },
     "metadata": {},
     "output_type": "display_data"
    },
    {
     "data": {
      "application/vnd.jupyter.widget-view+json": {
       "model_id": "6fa838679cf04d92b6009e909ae2279d",
       "version_major": 2,
       "version_minor": 0
      },
      "text/plain": [
       "Dropdown(description='Select target:', options=(), value=None)"
      ]
     },
     "metadata": {},
     "output_type": "display_data"
    },
    {
     "data": {
      "application/vnd.jupyter.widget-view+json": {
       "model_id": "af3c827d9d614388aa371b923e5e61e0",
       "version_major": 2,
       "version_minor": 0
      },
      "text/plain": [
       "Label(value='Prediction output:')"
      ]
     },
     "metadata": {},
     "output_type": "display_data"
    },
    {
     "data": {
      "application/vnd.jupyter.widget-view+json": {
       "model_id": "727777884fd14936849f3b9a7bec135e",
       "version_major": 2,
       "version_minor": 0
      },
      "text/plain": [
       "Output(layout=Layout(border='1px solid black'))"
      ]
     },
     "metadata": {},
     "output_type": "display_data"
    },
    {
     "data": {
      "application/vnd.jupyter.widget-view+json": {
       "model_id": "4009d76a19394ff19f76621028875de1",
       "version_major": 2,
       "version_minor": 0
      },
      "text/plain": [
       "Output()"
      ]
     },
     "metadata": {},
     "output_type": "display_data"
    }
   ],
   "source": [
    "display(text)\n",
    "display(button)\n",
    "display(tasks)\n",
    "display(pred_caption)\n",
    "display(out)\n",
    "display(interpret_out)"
   ]
  }
 ],
 "metadata": {
  "kernelspec": {
   "display_name": "Python 3",
   "language": "python",
   "name": "python3"
  },
  "language_info": {
   "codemirror_mode": {
    "name": "ipython",
    "version": 3
   },
   "file_extension": ".py",
   "mimetype": "text/x-python",
   "name": "python",
   "nbconvert_exporter": "python",
   "pygments_lexer": "ipython3",
   "version": "3.9.23"
  }
 },
 "nbformat": 4,
 "nbformat_minor": 5
}
