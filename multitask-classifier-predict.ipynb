{
 "cells": [
  {
   "cell_type": "code",
   "execution_count": 1,
   "id": "756fb4ee",
   "metadata": {},
   "outputs": [
    {
     "name": "stderr",
     "output_type": "stream",
     "text": [
      "/usr/local/lib/python3.9/dist-packages/matplotlib/projections/__init__.py:63: UserWarning: Unable to import Axes3D. This may be due to multiple versions of Matplotlib being installed (e.g. as a system package and as a pip package). As a result, the 3D projection is not available.\n",
      "  warnings.warn(\"Unable to import Axes3D. This may be due to multiple versions of \"\n",
      "2025-05-26 01:36:38.974758: I tensorflow/core/platform/cpu_feature_guard.cc:193] This TensorFlow binary is optimized with oneAPI Deep Neural Network Library (oneDNN) to use the following CPU instructions in performance-critical operations:  AVX2 FMA\n",
      "To enable them in other operations, rebuild TensorFlow with the appropriate compiler flags.\n",
      "2025-05-26 01:36:40.084889: W tensorflow/compiler/xla/stream_executor/platform/default/dso_loader.cc:64] Could not load dynamic library 'libnvinfer.so.7'; dlerror: libnvinfer.so.7: cannot open shared object file: No such file or directory; LD_LIBRARY_PATH: /usr/local/cuda/lib64:/usr/local/cuda/extras/CUPTI/lib64\n",
      "2025-05-26 01:36:40.085063: W tensorflow/compiler/xla/stream_executor/platform/default/dso_loader.cc:64] Could not load dynamic library 'libnvinfer_plugin.so.7'; dlerror: libnvinfer_plugin.so.7: cannot open shared object file: No such file or directory; LD_LIBRARY_PATH: /usr/local/cuda/lib64:/usr/local/cuda/extras/CUPTI/lib64\n",
      "2025-05-26 01:36:40.085076: W tensorflow/compiler/tf2tensorrt/utils/py_utils.cc:38] TF-TRT Warning: Cannot dlopen some TensorRT libraries. If you would like to use Nvidia GPU with TensorRT, please make sure the missing libraries mentioned above are installed properly.\n"
     ]
    }
   ],
   "source": [
    "from pprint import pprint\n",
    "import ipywidgets as widgets\n",
    "from IPython.display import display\n",
    "from models.predict import MultiTaskModel"
   ]
  },
  {
   "cell_type": "code",
   "execution_count": 2,
   "id": "a6632759",
   "metadata": {},
   "outputs": [
    {
     "name": "stderr",
     "output_type": "stream",
     "text": [
      "Some weights of TransformerMultiTaskClassifier were not initialized from the model checkpoint at intfloat/e5-small-v2 and are newly initialized: ['heads.0.1.bias', 'heads.0.1.weight', 'heads.1.1.bias', 'heads.1.1.weight', 'heads.2.1.bias', 'heads.2.1.weight', 'heads.3.1.bias', 'heads.3.1.weight', 'heads.4.1.bias', 'heads.4.1.weight', 'heads.5.1.bias', 'heads.5.1.weight', 'heads.6.1.bias', 'heads.6.1.weight', 'heads.7.1.bias', 'heads.7.1.weight']\n",
      "You should probably TRAIN this model on a down-stream task to be able to use it for predictions and inference.\n"
     ]
    }
   ],
   "source": [
    "model_directory = \"./outputs/berkeley_classifier_long\"\n",
    "cache_dir='../cache'\n",
    "\n",
    "model = MultiTaskModel(model_directory, cache_dir)"
   ]
  },
  {
   "cell_type": "code",
   "execution_count": 3,
   "id": "a90fe148",
   "metadata": {},
   "outputs": [
    {
     "name": "stdout",
     "output_type": "stream",
     "text": [
      "{'age': array([0.50959957, 0.49040046], dtype=float32),\n",
      " 'disability': array([0.5115416, 0.4884584], dtype=float32),\n",
      " 'gender': array([0.46997544, 0.5300246 ], dtype=float32),\n",
      " 'hatespeech': array([0.3403496 , 0.32805648, 0.33159393], dtype=float32),\n",
      " 'origin': array([0.51061136, 0.4893887 ], dtype=float32),\n",
      " 'race': array([0.52124923, 0.47875074], dtype=float32),\n",
      " 'religion': array([0.5145278, 0.4854722], dtype=float32),\n",
      " 'sexuality': array([0.47316876, 0.5268312 ], dtype=float32)}\n"
     ]
    }
   ],
   "source": [
    "true_label=1\n",
    "# tasks = list(class_maps.keys())\n",
    "text = \"I don't care how threatened you feel, you can't go throwing respect for human rights and due process out the window and just blow a kid away to defend your shit. But this is america the free country founded on genocide and slavery where they hold people in prison camps for years without trial and property is worth more than life so\"\n",
    "final = model.predict(text)\n",
    "pprint(final)"
   ]
  },
  {
   "cell_type": "code",
   "execution_count": null,
   "id": "325fdc06",
   "metadata": {},
   "outputs": [],
   "source": [
    "processed = None\n",
    "demo_text = \"I don't care how threatened you feel, you can't go throwing respect for human rights and due process out the window and just blow a kid away to defend your shit. But this is america the free country founded on genocide and slavery where they hold people in prison camps for years without trial and property is worth more than life so\"\n",
    "\n",
    "text = widgets.Text(placeholder='Type something', description='Text:', disabled=False, layout = widgets.Layout(width='100%'), value=demo_text)\n",
    "button = widgets.Button(description='Detect', disabled=False)\n",
    "out = widgets.Output(layout={'border': '1px solid black'})\n",
    "tasks = widgets.Dropdown(\n",
    "    placeholder='Target',\n",
    "    description='Select target:',\n",
    "    ensure_option=True,\n",
    "    continuous_update=False,\n",
    "    disabled=False\n",
    ")\n",
    "pred_caption = widgets.Label(value=\"Prediction output:\")\n",
    "interpret_out = widgets.Output()\n",
    "\n",
    "def predict(b):\n",
    "    results = model.predict(text.value)\n",
    "    with out:\n",
    "        pprint(results)\n",
    "    tasks.options = list(results.keys())\n",
    "\n",
    "button.on_click(predict)\n",
    "\n",
    "def plot_interpretability(change):\n",
    "   interpret_out.clear_output()    \n",
    "   with interpret_out:\n",
    "        task_ind = list(model.class_maps.keys()).index(change.new)\n",
    "        model.plot_interpretability(text.value, task_ind)\n",
    "\n",
    "tasks.observe(plot_interpretability, names='value')"
   ]
  },
  {
   "cell_type": "code",
   "execution_count": 5,
   "id": "2b86cfd1",
   "metadata": {},
   "outputs": [
    {
     "data": {
      "application/vnd.jupyter.widget-view+json": {
       "model_id": "e36fffa1359f44d0b93861f85d66e0f2",
       "version_major": 2,
       "version_minor": 0
      },
      "text/plain": [
       "Text(value=\"I don't care how threatened you feel, you can't go throwing respect for human rights and due proce…"
      ]
     },
     "metadata": {},
     "output_type": "display_data"
    },
    {
     "data": {
      "application/vnd.jupyter.widget-view+json": {
       "model_id": "186cdac045d84d83a41ac404a203033d",
       "version_major": 2,
       "version_minor": 0
      },
      "text/plain": [
       "Button(description='Detect', style=ButtonStyle())"
      ]
     },
     "metadata": {},
     "output_type": "display_data"
    },
    {
     "data": {
      "application/vnd.jupyter.widget-view+json": {
       "model_id": "71cbe2df68784af984f54dbd3e8f2d07",
       "version_major": 2,
       "version_minor": 0
      },
      "text/plain": [
       "Dropdown(description='Select target:', options=(), value=None)"
      ]
     },
     "metadata": {},
     "output_type": "display_data"
    },
    {
     "data": {
      "application/vnd.jupyter.widget-view+json": {
       "model_id": "6500fe949cba4539aaa9b6d432db592d",
       "version_major": 2,
       "version_minor": 0
      },
      "text/plain": [
       "Label(value='Prediction output:')"
      ]
     },
     "metadata": {},
     "output_type": "display_data"
    },
    {
     "data": {
      "application/vnd.jupyter.widget-view+json": {
       "model_id": "adf13370d1f34456a60a3f1fdc7c31f0",
       "version_major": 2,
       "version_minor": 0
      },
      "text/plain": [
       "Output(layout=Layout(border='1px solid black'))"
      ]
     },
     "metadata": {},
     "output_type": "display_data"
    },
    {
     "data": {
      "application/vnd.jupyter.widget-view+json": {
       "model_id": "b2a53101645e402fb718150a5b369298",
       "version_major": 2,
       "version_minor": 0
      },
      "text/plain": [
       "Output()"
      ]
     },
     "metadata": {},
     "output_type": "display_data"
    }
   ],
   "source": [
    "display(text)\n",
    "display(button)\n",
    "display(tasks)\n",
    "display(pred_caption)\n",
    "display(out)\n",
    "display(interpret_out)"
   ]
  }
 ],
 "metadata": {
  "kernelspec": {
   "display_name": "Python 3",
   "language": "python",
   "name": "python3"
  },
  "language_info": {
   "codemirror_mode": {
    "name": "ipython",
    "version": 3
   },
   "file_extension": ".py",
   "mimetype": "text/x-python",
   "name": "python",
   "nbconvert_exporter": "python",
   "pygments_lexer": "ipython3",
   "version": "3.9.22"
  }
 },
 "nbformat": 4,
 "nbformat_minor": 5
}
