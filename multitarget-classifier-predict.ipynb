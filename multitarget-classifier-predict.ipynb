{
 "cells": [
  {
   "cell_type": "code",
   "execution_count": null,
   "id": "756fb4ee",
   "metadata": {},
   "outputs": [
    {
     "name": "stderr",
     "output_type": "stream",
     "text": [
      "/usr/local/lib/python3.9/dist-packages/matplotlib/projections/__init__.py:63: UserWarning: Unable to import Axes3D. This may be due to multiple versions of Matplotlib being installed (e.g. as a system package and as a pip package). As a result, the 3D projection is not available.\n",
      "  warnings.warn(\"Unable to import Axes3D. This may be due to multiple versions of \"\n",
      "2025-05-26 01:43:08.559856: I tensorflow/core/platform/cpu_feature_guard.cc:193] This TensorFlow binary is optimized with oneAPI Deep Neural Network Library (oneDNN) to use the following CPU instructions in performance-critical operations:  AVX2 FMA\n",
      "To enable them in other operations, rebuild TensorFlow with the appropriate compiler flags.\n",
      "2025-05-26 01:43:09.599692: W tensorflow/compiler/xla/stream_executor/platform/default/dso_loader.cc:64] Could not load dynamic library 'libnvinfer.so.7'; dlerror: libnvinfer.so.7: cannot open shared object file: No such file or directory; LD_LIBRARY_PATH: /usr/local/cuda/lib64:/usr/local/cuda/extras/CUPTI/lib64\n",
      "2025-05-26 01:43:09.599816: W tensorflow/compiler/xla/stream_executor/platform/default/dso_loader.cc:64] Could not load dynamic library 'libnvinfer_plugin.so.7'; dlerror: libnvinfer_plugin.so.7: cannot open shared object file: No such file or directory; LD_LIBRARY_PATH: /usr/local/cuda/lib64:/usr/local/cuda/extras/CUPTI/lib64\n",
      "2025-05-26 01:43:09.599827: W tensorflow/compiler/tf2tensorrt/utils/py_utils.cc:38] TF-TRT Warning: Cannot dlopen some TensorRT libraries. If you would like to use Nvidia GPU with TensorRT, please make sure the missing libraries mentioned above are installed properly.\n"
     ]
    }
   ],
   "source": [
    "from time import time\n",
    "from pprint import pprint\n",
    "import ipywidgets as widgets\n",
    "from IPython.display import display\n",
    "from models.predict import MultiTargetModel"
   ]
  },
  {
   "cell_type": "code",
   "execution_count": null,
   "id": "a6632759",
   "metadata": {},
   "outputs": [
    {
     "name": "stderr",
     "output_type": "stream",
     "text": [
      "Some weights of TransformerMultiTargetClassifier were not initialized from the model checkpoint at google-bert/bert-base-uncased and are newly initialized: ['bert.heads.0.1.bias', 'bert.heads.0.1.weight', 'bert.heads.1.1.bias', 'bert.heads.1.1.weight', 'bert.heads.2.1.bias', 'bert.heads.2.1.weight', 'bert.heads.3.1.bias', 'bert.heads.3.1.weight', 'bert.heads.4.1.bias', 'bert.heads.4.1.weight', 'bert.heads.5.1.bias', 'bert.heads.5.1.weight', 'bert.heads.6.1.bias', 'bert.heads.6.1.weight', 'bert.heads.7.1.bias', 'bert.heads.7.1.weight', 'bert.heads.8.1.bias', 'bert.heads.8.1.weight']\n",
      "You should probably TRAIN this model on a down-stream task to be able to use it for predictions and inference.\n"
     ]
    }
   ],
   "source": [
    "model_directory = \"./outputs/berkeley_classifier_multi\"\n",
    "cache_dir='../cache'\n",
    "\n",
    "model = MultiTargetModel(model_directory, cache_dir=cache_dir)"
   ]
  },
  {
   "cell_type": "code",
   "execution_count": null,
   "id": "36f296cd",
   "metadata": {},
   "outputs": [],
   "source": [
    "processed = None\n",
    "demo_text = \"I don't care how threatened you feel, you can't go throwing respect for human rights and due process out the window and just blow a kid away to defend your shit. But this is america the free country founded on genocide and slavery where they hold people in prison camps for years without trial and property is worth more than life so\"\n",
    "\n",
    "text = widgets.Text(placeholder='Type something', description='Text:', disabled=False, layout = widgets.Layout(width='100%'), value=demo_text)\n",
    "button = widgets.Button(description='Detect', disabled=False)\n",
    "out = widgets.Output(layout={'border': '1px solid black'})\n",
    "tasks = widgets.Dropdown(\n",
    "    placeholder='Target',\n",
    "    description='Select target:',\n",
    "    ensure_option=True,\n",
    "    continuous_update=False,\n",
    "    disabled=False\n",
    ")\n",
    "pred_caption = widgets.Label(value=\"Prediction output:\")\n",
    "interpret_out = widgets.Output()\n",
    "\n",
    "def predict(b):\n",
    "    results = model.predict(text.value)\n",
    "    out.clear_output()\n",
    "    with out:\n",
    "        pprint(results)\n",
    "    tasks.options = list(results.keys())\n",
    "\n",
    "button.on_click(predict)\n",
    "\n",
    "def plot_interpretability(change):\n",
    "   interpret_out.clear_output()\n",
    "   task = change.new    \n",
    "   with interpret_out:\n",
    "        time_started = time()\n",
    "        model.plot_interpretability(text.value, task, n_steps=250)\n",
    "        print(\"Time taken to calculate interpretability values, in seconds:\", time() - time_started)\n",
    "\n",
    "tasks.observe(plot_interpretability, names='value')"
   ]
  },
  {
   "cell_type": "code",
   "execution_count": 4,
   "id": "036d7c1d",
   "metadata": {},
   "outputs": [
    {
     "data": {
      "application/vnd.jupyter.widget-view+json": {
       "model_id": "e72fca4138104d33b3b75718aef6e6ab",
       "version_major": 2,
       "version_minor": 0
      },
      "text/plain": [
       "Text(value=\"I don't care how threatened you feel, you can't go throwing respect for human rights and due proce…"
      ]
     },
     "metadata": {},
     "output_type": "display_data"
    },
    {
     "data": {
      "application/vnd.jupyter.widget-view+json": {
       "model_id": "bea7e7a9a14f430dba1a8e88b05f37b9",
       "version_major": 2,
       "version_minor": 0
      },
      "text/plain": [
       "Button(description='Detect', style=ButtonStyle())"
      ]
     },
     "metadata": {},
     "output_type": "display_data"
    },
    {
     "data": {
      "application/vnd.jupyter.widget-view+json": {
       "model_id": "ca6cc2f9e4eb42b8a820f04c45e94744",
       "version_major": 2,
       "version_minor": 0
      },
      "text/plain": [
       "Dropdown(description='Select target:', options=(), value=None)"
      ]
     },
     "metadata": {},
     "output_type": "display_data"
    },
    {
     "data": {
      "application/vnd.jupyter.widget-view+json": {
       "model_id": "d3388b2492914a42949ccf857b797981",
       "version_major": 2,
       "version_minor": 0
      },
      "text/plain": [
       "Label(value='Prediction output:')"
      ]
     },
     "metadata": {},
     "output_type": "display_data"
    },
    {
     "data": {
      "application/vnd.jupyter.widget-view+json": {
       "model_id": "8cb04837481948268c2aa16a9d7037ff",
       "version_major": 2,
       "version_minor": 0
      },
      "text/plain": [
       "Output(layout=Layout(border='1px solid black'))"
      ]
     },
     "metadata": {},
     "output_type": "display_data"
    },
    {
     "data": {
      "application/vnd.jupyter.widget-view+json": {
       "model_id": "fe03e366859448e98e030853288a6381",
       "version_major": 2,
       "version_minor": 0
      },
      "text/plain": [
       "Output()"
      ]
     },
     "metadata": {},
     "output_type": "display_data"
    }
   ],
   "source": [
    "display(text)\n",
    "display(button)\n",
    "display(tasks)\n",
    "display(pred_caption)\n",
    "display(out)\n",
    "display(interpret_out)"
   ]
  }
 ],
 "metadata": {
  "kernelspec": {
   "display_name": "Python 3",
   "language": "python",
   "name": "python3"
  },
  "language_info": {
   "codemirror_mode": {
    "name": "ipython",
    "version": 3
   },
   "file_extension": ".py",
   "mimetype": "text/x-python",
   "name": "python",
   "nbconvert_exporter": "python",
   "pygments_lexer": "ipython3",
   "version": "3.9.19"
  }
 },
 "nbformat": 4,
 "nbformat_minor": 5
}
